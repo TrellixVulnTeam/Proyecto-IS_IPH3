{
  "nbformat": 4,
  "nbformat_minor": 0,
  "metadata": {
    "colab": {
      "name": "Practica_3.ipynb",
      "version": "0.3.2",
      "provenance": [],
      "include_colab_link": true
    },
    "kernelspec": {
      "name": "python3",
      "display_name": "Python 3"
    }
  },
  "cells": [
    {
      "cell_type": "markdown",
      "metadata": {
        "id": "view-in-github",
        "colab_type": "text"
      },
      "source": [
        "<a href=\"https://colab.research.google.com/github/milagroscm/Proyecto-IS/blob/master/Practica_3.ipynb\" target=\"_parent\"><img src=\"https://colab.research.google.com/assets/colab-badge.svg\" alt=\"Open In Colab\"/></a>"
      ]
    },
    {
      "cell_type": "code",
      "metadata": {
        "id": "XQjEih4CvK7K",
        "colab_type": "code",
        "outputId": "6d0c9a59-833f-485f-f7ac-de9d02068562",
        "colab": {
          "base_uri": "https://localhost:8080/",
          "height": 34
        }
      },
      "source": [
        "!pip install googledrivedownloader"
      ],
      "execution_count": 0,
      "outputs": [
        {
          "output_type": "stream",
          "text": [
            "Requirement already satisfied: googledrivedownloader in /usr/local/lib/python3.6/dist-packages (0.4)\n"
          ],
          "name": "stdout"
        }
      ]
    },
    {
      "cell_type": "code",
      "metadata": {
        "id": "iq9YfCZovOlQ",
        "colab_type": "code",
        "colab": {}
      },
      "source": [
        "from google_drive_downloader import GoogleDriveDownloader as gd\n"
      ],
      "execution_count": 0,
      "outputs": []
    },
    {
      "cell_type": "markdown",
      "metadata": {
        "id": "Cwi8rORfsT-8",
        "colab_type": "text"
      },
      "source": [
        "#***Problema 1*** \n",
        "\n",
        "Parte del programa a desarrollar, es una rutina que decide para un arreglo dado, el menor número de intercambios de dos elementos adyacentes necesarios para ordenar el arreglo. Tu tarea es crear esa rutina.\n",
        "\n",
        "**Entrada**\n",
        "\n",
        "La entrada contiene en la primera línea el número de casos de prueba *(N)*. Cada caso de prueba consta de dos entradas\n",
        "(2 líneas). La primera línea de un caso de prueba contiene un entero *L*, que determina la longitud del arreglo *(0 ≤ L ≤ 50)*.\n",
        "La segunda línea de un caso de prueba contiene una permutación de los números del 1 al *L*, que indica el\n",
        "orden actual de los elementos. Los elementos deben ordenarse de modo que el elemento 1 sea primero, luego 2, etc.\n",
        "con el elemento *L* llegando el último.\n",
        "\n",
        "**Salida**\n",
        "\n",
        "Para cada caso de prueba, emita la frase: \"El intercambio de elementos óptimos toma swaps S\". Donde S es un\n",
        "entero.\n",
        "\n",
        "***Entrada de muestra***\n",
        "\n",
        "2\n",
        "\n",
        "3\n",
        "\n",
        "1 3 2\n",
        "\n",
        "2\n",
        "\n",
        "2 1\n",
        "\n",
        "***Salida de muestra***\n",
        "\n",
        "El intercambio óptimo de trenes toma 1 swaps.\n",
        "\n",
        "El intercambio óptimo de trenes toma 1 swaps."
      ]
    },
    {
      "cell_type": "code",
      "metadata": {
        "id": "2LVcnpZJvr9y",
        "colab_type": "code",
        "outputId": "162d09ea-51a1-4f71-dae2-84cb5719a36c",
        "colab": {
          "base_uri": "https://localhost:8080/",
          "height": 34
        }
      },
      "source": [
        "gd.download_file_from_google_drive(file_id='1nWtrdV3IIgoqcn4ev221Yslh3vqCTk9t',dest_path='./inputProblem1.txt')\n"
      ],
      "execution_count": 0,
      "outputs": [
        {
          "output_type": "stream",
          "text": [
            "Downloading 1nWtrdV3IIgoqcn4ev221Yslh3vqCTk9t into ./inputProblem1.txt... Done.\n"
          ],
          "name": "stdout"
        }
      ]
    },
    {
      "cell_type": "code",
      "metadata": {
        "id": "o2rwcGkDv_xh",
        "colab_type": "code",
        "colab": {}
      },
      "source": [
        "inputProb_1=open('inputProblem1.txt')\n",
        "numOfTests = int(inputProb_1.readline())\n",
        "input = []\n",
        "for i in range(numOfTests):\n",
        "  N = int(inputProb_1.readline())\n",
        "  A = map(int, inputProb_1.readline().split())\n",
        "  input.append((N, A))"
      ],
      "execution_count": 0,
      "outputs": []
    },
    {
      "cell_type": "code",
      "metadata": {
        "id": "woqPTrQ2wtXB",
        "colab_type": "code",
        "outputId": "2d5d2774-fd26-4461-9367-31e87bbff31f",
        "colab": {
          "base_uri": "https://localhost:8080/",
          "height": 119
        }
      },
      "source": [
        "for i in input:\n",
        "  N, A = i\n",
        "  print(N)\n",
        "  print(list(A))"
      ],
      "execution_count": 0,
      "outputs": [
        {
          "output_type": "stream",
          "text": [
            "3\n",
            "[1, 3, 2]\n",
            "4\n",
            "[4, 3, 2, 1]\n",
            "2\n",
            "[2, 1]\n"
          ],
          "name": "stdout"
        }
      ]
    },
    {
      "cell_type": "code",
      "metadata": {
        "id": "5Z5rwCSGqyqW",
        "colab_type": "code",
        "outputId": "b398adee-2a2e-4f62-c45f-6d2515cb6105",
        "colab": {
          "base_uri": "https://localhost:8080/",
          "height": 136
        }
      },
      "source": [
        "\n",
        "def ContarInversiones(arreglo,n):\n",
        "  inversiones=0\n",
        "  i=0\n",
        "  j=0  \n",
        "  for i in range (n-1):\n",
        "        for j in range (n - 1 - i):\n",
        "            if (arreglo[j] > arreglo[j + 1]):\n",
        "                arreglo[j], arreglo[j + 1]=arreglo[j + 1],arreglo[j]\n",
        "                inversiones+=1;\n",
        "  return inversiones;\n",
        "\n",
        "N=int(input())\n",
        "for i in range (N):\n",
        "    L=int(input())\n",
        "    linea=input()\n",
        "    arreglo=list(map(int, linea.split()))\n",
        "    print(\"El intercambio óptimo de trenes toma {} swaps.\".format(ContarInversiones(arreglo,len(arreglo))))\n",
        " "
      ],
      "execution_count": 1,
      "outputs": [
        {
          "output_type": "stream",
          "text": [
            "2\n",
            "3\n",
            "1 3 2\n",
            "El intercambio óptimo de trenes toma 1 swaps.\n",
            "2\n",
            "2 1\n",
            "El intercambio óptimo de trenes toma 1 swaps.\n"
          ],
          "name": "stdout"
        }
      ]
    },
    {
      "cell_type": "code",
      "metadata": {
        "id": "PICn8cZ2_Ake",
        "colab_type": "code",
        "colab": {}
      },
      "source": [
        ""
      ],
      "execution_count": 0,
      "outputs": []
    },
    {
      "cell_type": "markdown",
      "metadata": {
        "id": "yrat2HbvsSLk",
        "colab_type": "text"
      },
      "source": [
        ""
      ]
    },
    {
      "cell_type": "markdown",
      "metadata": {
        "id": "wj_QGVKJz757",
        "colab_type": "text"
      },
      "source": [
        "#***Problema 2***\n",
        "\n",
        "Tenemos un juego. Los jugadores juegan por turnos, y en cada turno un jugador hace un movimiento. El jugador \"A\" siempre es el primero en jugar.\n",
        "\n",
        "Un movimiento consiste en elegir un par de elementos consecutivos que están fuera de orden en la secuencia, y cambiar ambos elementos. Por ejemplo, dada la secuencia *1, 5, 3, 4, 2*, un jugador puede intercambiar *3 y 5 o 4 y 2*, pero no puede intercambiar *3 y 4* ni *5 y 2*. Continuando con el ejemplo, si el jugador decide intercambiar *5 y 3*, la nueva secuencia será *1, 3, 5, 4, 2.*\n",
        "\n",
        "Tarde o temprano, la secuencia terminará ordenada. El jugador que no puede hacer un movimiento pierde. Tu misión,  es determinar quién gana el juego, dado la permutación inicial *p*.\n",
        "\n",
        "**Entrada**\n",
        "\n",
        "La entrada contiene varios casos de prueba. Cada caso de prueba se compone de una sola línea, en la que todos los enteros están separados por un espacio. Cada línea contiene un entero *N (2 ≤ N ≤ 105)*, seguido de la secuencia *P = (X1, X2, ..., XN)* de *N* enteros distintos, con *1 ≤ Xi ≤ N para 1 ≤ i ≤ N.*  El final de la entrada se indica mediante una línea que contiene solo un cero.\n",
        "\n",
        "**Salida**\n",
        "\n",
        "Para cada caso de prueba en la entrada, su programa debe imprimir una sola línea, que contenga el nombre del ganador, igual a \"jugador A\" o \"jugador B\".\n",
        "\n",
        "**Entrada de muestra**\n",
        "\n",
        "5 1 5 3 4 2\n",
        "\n",
        "5 5 1 3 4 2\n",
        "\n",
        "5 1 2 3 4 5\n",
        "\n",
        "5 5 4 3 2 1\n",
        "\n",
        "0\n",
        "\n",
        "**Salida de muestra**\n",
        "\n",
        "jugador A\n",
        "\n",
        "jugador B\n",
        "\n",
        "jugador B\n",
        "\n",
        "jugador B\n",
        "\n"
      ]
    },
    {
      "cell_type": "code",
      "metadata": {
        "id": "VsX1fjiV24QC",
        "colab_type": "code",
        "outputId": "59763dca-350d-4fa8-c629-c076c6df5e10",
        "colab": {
          "base_uri": "https://localhost:8080/",
          "height": 34
        }
      },
      "source": [
        "gd.download_file_from_google_drive(file_id='1H2Ne5qEea0bm10r-tZIREDkP7JrCW8ps',dest_path='./inputProblem2.txt')"
      ],
      "execution_count": 0,
      "outputs": [
        {
          "output_type": "stream",
          "text": [
            "Downloading 1H2Ne5qEea0bm10r-tZIREDkP7JrCW8ps into ./inputProblem2.txt... Done.\n"
          ],
          "name": "stdout"
        }
      ]
    },
    {
      "cell_type": "markdown",
      "metadata": {
        "id": "zwtSV5Ulq1hR",
        "colab_type": "text"
      },
      "source": [
        ""
      ]
    },
    {
      "cell_type": "code",
      "metadata": {
        "id": "Y1iB-xkn3qo9",
        "colab_type": "code",
        "colab": {}
      },
      "source": [
        "inputProb_2=open('inputProblem2.txt')\n",
        "numOfTests = 0\n",
        "input2 = []\n",
        "while True:\n",
        "  A =list(map(int, inputProb_2.readline().split()))\n",
        "  if A[0] == 0:\n",
        "    break\n",
        "  numOfTests += 1\n",
        "  input2.append((A[0], A[1:]))"
      ],
      "execution_count": 0,
      "outputs": []
    },
    {
      "cell_type": "code",
      "metadata": {
        "id": "srK1xDWy4OxT",
        "colab_type": "code",
        "outputId": "5afb560c-be58-4610-9225-1fb612b5d9cd",
        "colab": {
          "base_uri": "https://localhost:8080/",
          "height": 34
        }
      },
      "source": [
        "print(input)"
      ],
      "execution_count": 0,
      "outputs": [
        {
          "output_type": "stream",
          "text": [
            "[(3, <map object at 0x7fe3b66796d8>), (4, <map object at 0x7fe3b66792b0>), (2, <map object at 0x7fe3b6679748>)]\n"
          ],
          "name": "stdout"
        }
      ]
    },
    {
      "cell_type": "code",
      "metadata": {
        "id": "x78csJok5Dhh",
        "colab_type": "code",
        "outputId": "bb245132-64b9-4036-dcec-5824fb7a9f17",
        "colab": {
          "base_uri": "https://localhost:8080/",
          "height": 68
        }
      },
      "source": [
        "def ContarInversiones(arreglo,n):\n",
        "  inversiones=0\n",
        "  i=0\n",
        "  j=0  \n",
        "  for i in range (n-1):\n",
        "        for j in range (n - 1 - i):\n",
        "            if (arreglo[j] > arreglo[j + 1]):\n",
        "                arreglo[j], arreglo[j + 1]=arreglo[j + 1],arreglo[j]\n",
        "                inversiones+=1;\n",
        "  return inversiones;\n",
        "\n",
        "\n",
        "while True:\n",
        "    linea=input()\n",
        "    arreglo=list(map(int, linea.split()))\n",
        "    if arreglo[0]==0:\n",
        "        break\n",
        "    arreglo=arreglo[1:]\n",
        "    inversiones=ContarInversiones(arreglo,len(arreglo))\n",
        "    if inversiones%2==0:\n",
        "        print(\"jugador B\")\n",
        "    else: \n",
        "        print(\"jugador A\")"
      ],
      "execution_count": 2,
      "outputs": [
        {
          "output_type": "stream",
          "text": [
            "5 1 5 3 4 2\n",
            "jugador A\n",
            "0\n"
          ],
          "name": "stdout"
        }
      ]
    }
  ]
}